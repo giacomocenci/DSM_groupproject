{
 "cells": [
  {
   "cell_type": "code",
   "execution_count": 3,
   "metadata": {},
   "outputs": [],
   "source": [
    "# Database connection\n",
    "user = \"erpnext_sql\"\n",
    "password = \"rtp[ps4XRF0_pX\"\n",
    "db = \"_abde597b15b69fc8\"\n",
    "host = \"erpnext.responsible-ai.net\"\n",
    "port = \"3333\"\n",
    "engine = create_engine(f\"mysql+pymysql://{user}:{password}@{host}:{port}/{db}\")\n"
   ]
  },
  {
   "cell_type": "code",
   "execution_count": 4,
   "metadata": {},
   "outputs": [],
   "source": [
    "# Load dataset\n",
    "data_sql_full = pd.read_sql(\"\"\"\n",
    "    SELECT po.name, po.supplier, po.total_qty, po.transaction_date as order_date,\n",
    "           po_items.schedule_date, po_receipt.posting_date as delivered_date,\n",
    "           po.set_warehouse, po_items.item_name\n",
    "    FROM `tabPurchase Order` po\n",
    "    LEFT JOIN `tabPurchase Order Item` po_items ON po.name = po_items.parent\n",
    "    LEFT JOIN `tabPurchase Receipt Item` po_receipt_item ON po.name = po_receipt_item.purchase_order\n",
    "    LEFT JOIN `tabPurchase Receipt` po_receipt ON po_receipt_item.parent = po_receipt.name\n",
    "    \"\"\", engine)"
   ]
  },
  {
   "cell_type": "code",
   "execution_count": 5,
   "metadata": {},
   "outputs": [],
   "source": [
    "# Data preprocessing\n",
    "data_sql_full.dropna(inplace=True, subset=[\"delivered_date\", \"schedule_date\"])\n",
    "data_sql_full[\"delivered_date\"] = pd.to_datetime(data_sql_full[\"delivered_date\"])\n",
    "data_sql_full[\"schedule_date\"] = pd.to_datetime(data_sql_full[\"schedule_date\"])\n",
    "data_sql_full[\"late\"] = data_sql_full[\"delivered_date\"] > data_sql_full[\"schedule_date\"]\n",
    "data_sql_full[\"days_late\"] = (data_sql_full[\"delivered_date\"] - data_sql_full[\"schedule_date\"]).dt.days"
   ]
  },
  {
   "cell_type": "code",
   "execution_count": 18,
   "metadata": {},
   "outputs": [
    {
     "data": {
      "text/html": [
       "<div>\n",
       "<style scoped>\n",
       "    .dataframe tbody tr th:only-of-type {\n",
       "        vertical-align: middle;\n",
       "    }\n",
       "\n",
       "    .dataframe tbody tr th {\n",
       "        vertical-align: top;\n",
       "    }\n",
       "\n",
       "    .dataframe thead th {\n",
       "        text-align: right;\n",
       "    }\n",
       "</style>\n",
       "<table border=\"1\" class=\"dataframe\">\n",
       "  <thead>\n",
       "    <tr style=\"text-align: right;\">\n",
       "      <th></th>\n",
       "      <th>name</th>\n",
       "      <th>supplier</th>\n",
       "      <th>total_qty</th>\n",
       "      <th>order_date</th>\n",
       "      <th>schedule_date</th>\n",
       "      <th>delivered_date</th>\n",
       "      <th>set_warehouse</th>\n",
       "      <th>item_name</th>\n",
       "      <th>late</th>\n",
       "      <th>days_late</th>\n",
       "      <th>order_month</th>\n",
       "    </tr>\n",
       "  </thead>\n",
       "  <tbody>\n",
       "    <tr>\n",
       "      <th>1</th>\n",
       "      <td>PUR-ORD-2024-08-00002</td>\n",
       "      <td>Beans Inc.</td>\n",
       "      <td>750.0</td>\n",
       "      <td>2023-04-24</td>\n",
       "      <td>2023-04-29</td>\n",
       "      <td>2023-05-04</td>\n",
       "      <td>Naples - RR</td>\n",
       "      <td>Excelsa</td>\n",
       "      <td>True</td>\n",
       "      <td>5</td>\n",
       "      <td>4</td>\n",
       "    </tr>\n",
       "    <tr>\n",
       "      <th>3</th>\n",
       "      <td>PUR-ORD-2024-08-00004</td>\n",
       "      <td>Aromatico</td>\n",
       "      <td>1000.0</td>\n",
       "      <td>2022-10-26</td>\n",
       "      <td>2022-11-10</td>\n",
       "      <td>2022-11-29</td>\n",
       "      <td>Amsterdam - RR</td>\n",
       "      <td>Maragogype</td>\n",
       "      <td>True</td>\n",
       "      <td>19</td>\n",
       "      <td>10</td>\n",
       "    </tr>\n",
       "    <tr>\n",
       "      <th>4</th>\n",
       "      <td>PUR-ORD-2024-08-00005</td>\n",
       "      <td>Aromatico</td>\n",
       "      <td>500.0</td>\n",
       "      <td>2022-03-18</td>\n",
       "      <td>2022-04-05</td>\n",
       "      <td>2022-04-24</td>\n",
       "      <td>London - RR</td>\n",
       "      <td>Maragogype Type B</td>\n",
       "      <td>True</td>\n",
       "      <td>19</td>\n",
       "      <td>3</td>\n",
       "    </tr>\n",
       "    <tr>\n",
       "      <th>5</th>\n",
       "      <td>PUR-ORD-2024-08-00006</td>\n",
       "      <td>Farmers of Brazil</td>\n",
       "      <td>100.0</td>\n",
       "      <td>2023-12-01</td>\n",
       "      <td>2023-12-15</td>\n",
       "      <td>2023-12-23</td>\n",
       "      <td>Naples - RR</td>\n",
       "      <td>Robusta</td>\n",
       "      <td>True</td>\n",
       "      <td>8</td>\n",
       "      <td>12</td>\n",
       "    </tr>\n",
       "    <tr>\n",
       "      <th>6</th>\n",
       "      <td>PUR-ORD-2024-08-00007</td>\n",
       "      <td>Farmers of Brazil</td>\n",
       "      <td>750.0</td>\n",
       "      <td>2024-05-17</td>\n",
       "      <td>2024-05-29</td>\n",
       "      <td>2024-05-29</td>\n",
       "      <td>Hamburg - RR</td>\n",
       "      <td>Maragogype</td>\n",
       "      <td>False</td>\n",
       "      <td>0</td>\n",
       "      <td>5</td>\n",
       "    </tr>\n",
       "  </tbody>\n",
       "</table>\n",
       "</div>"
      ],
      "text/plain": [
       "                    name           supplier  total_qty order_date  \\\n",
       "1  PUR-ORD-2024-08-00002         Beans Inc.      750.0 2023-04-24   \n",
       "3  PUR-ORD-2024-08-00004          Aromatico     1000.0 2022-10-26   \n",
       "4  PUR-ORD-2024-08-00005          Aromatico      500.0 2022-03-18   \n",
       "5  PUR-ORD-2024-08-00006  Farmers of Brazil      100.0 2023-12-01   \n",
       "6  PUR-ORD-2024-08-00007  Farmers of Brazil      750.0 2024-05-17   \n",
       "\n",
       "  schedule_date delivered_date   set_warehouse          item_name   late  \\\n",
       "1    2023-04-29     2023-05-04     Naples - RR            Excelsa   True   \n",
       "3    2022-11-10     2022-11-29  Amsterdam - RR         Maragogype   True   \n",
       "4    2022-04-05     2022-04-24     London - RR  Maragogype Type B   True   \n",
       "5    2023-12-15     2023-12-23     Naples - RR            Robusta   True   \n",
       "6    2024-05-29     2024-05-29    Hamburg - RR         Maragogype  False   \n",
       "\n",
       "   days_late  order_month  \n",
       "1          5            4  \n",
       "3         19           10  \n",
       "4         19            3  \n",
       "5          8           12  \n",
       "6          0            5  "
      ]
     },
     "execution_count": 18,
     "metadata": {},
     "output_type": "execute_result"
    }
   ],
   "source": [
    "data_sql_full.head()"
   ]
  },
  {
   "cell_type": "code",
   "execution_count": 19,
   "metadata": {},
   "outputs": [
    {
     "data": {
      "text/plain": [
       "name                      object\n",
       "supplier                  object\n",
       "total_qty                float64\n",
       "order_date        datetime64[ns]\n",
       "schedule_date     datetime64[ns]\n",
       "delivered_date    datetime64[ns]\n",
       "set_warehouse             object\n",
       "item_name                 object\n",
       "late                        bool\n",
       "days_late                  int64\n",
       "order_month                int32\n",
       "dtype: object"
      ]
     },
     "execution_count": 19,
     "metadata": {},
     "output_type": "execute_result"
    }
   ],
   "source": [
    "# Check datatypes\n",
    "data_sql_full.dtypes\n"
   ]
  },
  {
   "cell_type": "code",
   "execution_count": 6,
   "metadata": {},
   "outputs": [],
   "source": [
    "# Ensure order_date is in datetime format\n",
    "data_sql_full[\"order_date\"] = pd.to_datetime(data_sql_full[\"order_date\"])"
   ]
  },
  {
   "cell_type": "code",
   "execution_count": 7,
   "metadata": {},
   "outputs": [],
   "source": [
    "# Add month feature for seasonality\n",
    "data_sql_full[\"order_month\"] = data_sql_full[\"order_date\"].dt.month\n",
    "d_months = pd.get_dummies(data_sql_full['order_month'], prefix=\"d_month\")"
   ]
  },
  {
   "cell_type": "code",
   "execution_count": 8,
   "metadata": {},
   "outputs": [],
   "source": [
    "# Create dummies for supplier, warehouse, and item_name\n",
    "d_suppliers = pd.get_dummies(data_sql_full['supplier'], prefix=\"d_supplier\")\n",
    "d_warehouses = pd.get_dummies(data_sql_full['set_warehouse'], prefix=\"d_warehouse\")\n",
    "d_item_names = pd.get_dummies(data_sql_full['item_name'], prefix=\"d_item\")"
   ]
  },
  {
   "cell_type": "code",
   "execution_count": 9,
   "metadata": {},
   "outputs": [],
   "source": [
    "# Combine all features\n",
    "data_for_model = pd.concat([data_sql_full, d_suppliers, d_warehouses, d_item_names, d_months], axis=1)\n",
    "features = [\"total_qty\"] + list(d_suppliers.columns) + list(d_warehouses.columns) + list(d_item_names.columns) + list(d_months.columns)\n"
   ]
  },
  {
   "cell_type": "code",
   "execution_count": 10,
   "metadata": {},
   "outputs": [],
   "source": [
    "# Train/test split\n",
    "split_date = pd.to_datetime(\"2023-03-01\")\n",
    "train = data_for_model[data_for_model[\"order_date\"] <= split_date]\n",
    "test = data_for_model[data_for_model[\"order_date\"] > split_date]\n"
   ]
  },
  {
   "cell_type": "code",
   "execution_count": 11,
   "metadata": {},
   "outputs": [],
   "source": [
    "# Classifier model with hyperparameter tuning\n",
    "rf_classifier = RandomForestClassifier(random_state=1234, n_jobs=-1)\n",
    "param_dist = {\n",
    "    'n_estimators': [100, 500, 1000],\n",
    "    'max_depth': [None, 10, 20, 30],\n",
    "    'min_samples_split': [2, 5, 10]\n",
    "}\n",
    "random_search = RandomizedSearchCV(rf_classifier, param_distributions=param_dist, n_iter=10, cv=5, scoring='accuracy', n_jobs=-1)\n",
    "random_search.fit(train[features], train[\"late\"])\n",
    "best_rf_classifier = random_search.best_estimator_\n",
    "\n",
    "predictions = best_rf_classifier.predict(test[features])\n",
    "accuracy = accuracy_score(test[\"late\"], predictions)\n",
    "cm = confusion_matrix(test[\"late\"], predictions, labels=[True, False])\n"
   ]
  },
  {
   "cell_type": "code",
   "execution_count": 16,
   "metadata": {},
   "outputs": [
    {
     "name": "stdout",
     "output_type": "stream",
     "text": [
      "Classifier Accuracy: 0.9634302822925578\n",
      "Confusion Matrix:\n",
      "[[4412   19]\n",
      " [ 152   93]]\n"
     ]
    }
   ],
   "source": [
    "print(f\"Classifier Accuracy: {accuracy}\")\n",
    "print(\"Confusion Matrix:\")\n",
    "print(cm)\n"
   ]
  },
  {
   "cell_type": "code",
   "execution_count": 12,
   "metadata": {},
   "outputs": [],
   "source": [
    "# Export classifier model\n",
    "export_name = \"best_rf_classifier.pkl\"\n",
    "with open(export_name, \"wb\") as file:\n",
    "    pickle.dump(best_rf_classifier, file)"
   ]
  },
  {
   "cell_type": "code",
   "execution_count": 13,
   "metadata": {},
   "outputs": [
    {
     "name": "stderr",
     "output_type": "stream",
     "text": [
      "/Users/abheendra/miniconda3/lib/python3.11/site-packages/joblib/externals/loky/process_executor.py:752: UserWarning: A worker stopped while some jobs were given to the executor. This can be caused by a too short worker timeout or by a memory leak.\n",
      "  warnings.warn(\n"
     ]
    }
   ],
   "source": [
    "# Regressor model for predicting days late with hyperparameter tuning\n",
    "rf_regressor = RandomForestRegressor(random_state=1234, n_jobs=-1)\n",
    "random_search = RandomizedSearchCV(rf_regressor, param_distributions=param_dist, n_iter=10, cv=5, scoring='neg_mean_squared_error', n_jobs=-1)\n",
    "random_search.fit(train[features], train[\"days_late\"])\n",
    "best_rf_regressor = random_search.best_estimator_\n",
    "\n",
    "predictions_rf = best_rf_regressor.predict(test[features])\n",
    "mse_rf = mean_squared_error(test[\"days_late\"], predictions_rf)\n",
    "rmse_rf = np.sqrt(mse_rf)\n",
    "mae_rf = mean_absolute_error(test[\"days_late\"], predictions_rf)\n"
   ]
  },
  {
   "cell_type": "code",
   "execution_count": 17,
   "metadata": {},
   "outputs": [
    {
     "name": "stdout",
     "output_type": "stream",
     "text": [
      "Regressor RMSE: 1.9800719756956784\n",
      "Regressor MAE: 1.571402978224983\n"
     ]
    }
   ],
   "source": [
    "print(f\"Regressor RMSE: {rmse_rf}\")\n",
    "print(f\"Regressor MAE: {mae_rf}\")"
   ]
  },
  {
   "cell_type": "code",
   "execution_count": 14,
   "metadata": {},
   "outputs": [],
   "source": [
    "# Export regressor model\n",
    "export_name = \"best_rf_regressor.pkl\"\n",
    "with open(export_name, \"wb\") as file:\n",
    "    pickle.dump(best_rf_regressor, file)"
   ]
  },
  {
   "cell_type": "code",
   "execution_count": 15,
   "metadata": {},
   "outputs": [
    {
     "name": "stdout",
     "output_type": "stream",
     "text": [
      "Classifier Accuracy: 0.9634302822925578\n",
      "Confusion Matrix:\n",
      "[[4412   19]\n",
      " [ 152   93]]\n",
      "Regressor RMSE: 1.9800719756956784\n"
     ]
    }
   ],
   "source": [
    "# Print metrics\n",
    "print(f\"Classifier Accuracy: {accuracy}\")\n",
    "print(f\"Confusion Matrix:\\n{cm}\")\n",
    "print(f\"Regressor RMSE: {rmse_rf}\")"
   ]
  },
  {
   "cell_type": "code",
   "execution_count": null,
   "metadata": {},
   "outputs": [],
   "source": []
  },
  {
   "cell_type": "code",
   "execution_count": null,
   "metadata": {},
   "outputs": [],
   "source": []
  },
  {
   "cell_type": "code",
   "execution_count": null,
   "metadata": {},
   "outputs": [],
   "source": []
  }
 ],
 "metadata": {
  "kernelspec": {
   "display_name": "base",
   "language": "python",
   "name": "python3"
  },
  "language_info": {
   "codemirror_mode": {
    "name": "ipython",
    "version": 3
   },
   "file_extension": ".py",
   "mimetype": "text/x-python",
   "name": "python",
   "nbconvert_exporter": "python",
   "pygments_lexer": "ipython3",
   "version": "3.11.4"
  }
 },
 "nbformat": 4,
 "nbformat_minor": 2
}
